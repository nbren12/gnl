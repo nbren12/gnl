{
 "metadata": {
  "name": "",
  "signature": "sha256:9b691bbd41c05ac28e17734370358c3d0ae3bba31bb28a91f38cd5bd6bfcf5c3"
 },
 "nbformat": 3,
 "nbformat_minor": 0,
 "worksheets": [
  {
   "cells": [
    {
     "cell_type": "code",
     "collapsed": false,
     "input": [
      "%load_ext cythonmagic\n",
      "%load_ext memory_profiler\n",
      "%load_ext autoreload\n",
      "\n",
      "\n",
      "%autoreload 2\n",
      "%pylab inline"
     ],
     "language": "python",
     "metadata": {},
     "outputs": [
      {
       "output_type": "stream",
       "stream": "stdout",
       "text": [
        "Populating the interactive namespace from numpy and matplotlib\n"
       ]
      }
     ],
     "prompt_number": 1
    },
    {
     "cell_type": "heading",
     "level": 1,
     "metadata": {},
     "source": [
      "Pure Python"
     ]
    },
    {
     "cell_type": "code",
     "collapsed": false,
     "input": [
      "from math import sqrt\n",
      "from numpy.random import randn\n",
      "import numpy as np\n",
      "\n",
      "def sdeevolvepy(x, tout, A, B, dt=.01):\n",
      "    t = 0.0\n",
      "    while t < tout:\n",
      "        dt = min(dt, tout-t)\n",
      "\n",
      "        ax0 = A(x)\n",
      "        bx0 = B(x)\n",
      "        \n",
      "        x += dt * ax0 + sqrt(dt) * bx0 * randn()\n",
      "        t += dt\n",
      "        \n",
      "    return x\n",
      "    \n",
      "def sdepy(x, tout, A, B, dt=.01):\n",
      "    t = tout[0]\n",
      "    \n",
      "    xout = np.empty_like(tout)\n",
      "    dt = min(dt, np.diff(tout).min())\n",
      "    \n",
      "    for i, (t0, tNext) in enumerate(zip(tout[:-1], tout[1:])):\n",
      "        x = sdeevolvepy(x, tNext-t0, A, B, dt=dt)\n",
      "        xout[i] = x\n",
      "        \n",
      "    return tout, xout\n",
      "    "
     ],
     "language": "python",
     "metadata": {},
     "outputs": [],
     "prompt_number": 2
    },
    {
     "cell_type": "heading",
     "level": 1,
     "metadata": {},
     "source": [
      "Cython"
     ]
    },
    {
     "cell_type": "code",
     "collapsed": false,
     "input": [
      "%%cython -lgsl\n",
      "#cython: boundscheck=False\n",
      "#cython: wraparound=False\n",
      "##cython: profile=True\n",
      "cimport cython\n",
      "from cython.view cimport array as cvarray\n",
      "cimport numpy as np\n",
      "import numpy as np\n",
      "from libc.math cimport sqrt, fmin\n",
      "\n",
      "\n",
      "\n",
      "cdef extern from \"gsl/gsl_rng.h\":\n",
      "    ctypedef struct gsl_rng_type:\n",
      "        pass\n",
      "    ctypedef struct gsl_rng:\n",
      "        pass\n",
      "    gsl_rng_type *gsl_rng_mt19937\n",
      "    gsl_rng *gsl_rng_alloc(gsl_rng_type * T)\n",
      " \n",
      "cdef extern from \"gsl/gsl_randist.h\":\n",
      "    double gamma \"gsl_ran_gamma\"(gsl_rng * r,double,double)\n",
      "    double gaussian \"gsl_ran_gaussian\"(gsl_rng * r,double)\n",
      " \n",
      "cdef gsl_rng *r = gsl_rng_alloc(gsl_rng_mt19937)\n",
      "\n",
      "\n",
      "\n",
      "\n",
      "\n",
      "cdef class RandStream:\n",
      "    cdef gsl_rng * _strm \n",
      "\n",
      "    def __cinit__(self):\n",
      "        self._strm = gsl_rng_alloc(gsl_rng_mt19937)\n",
      "\n",
      "    def __call__(self, double sig):\n",
      "        return gaussian(self._strm, sig)\n",
      "    \n",
      "    cdef double normal(self, double sig):\n",
      "        return gaussian(self._strm, sig)\n",
      "\n",
      "    \n",
      "cdef RandStream rv = RandStream()\n",
      "\n",
      "cdef double A(double x):\n",
      "    return -x\n",
      "cdef double B(double x):\n",
      "    return 1.0\n",
      "\n",
      "\n",
      "\n",
      "\n",
      "cdef double sdeevolve(double x, double tout, double dt ):\n",
      "    cdef double t, ax0, bx0\n",
      "#     cdef np.ndarray[np.float64_t] rands = np.random.randn(int(tout/dt) + 1)\n",
      "    cdef int i = 0\n",
      "    cdef bint dobreak\n",
      "    \n",
      "    t = 0.0\n",
      "    \n",
      "    if tout < 1e-9 : t  = tout +1\n",
      "    \n",
      "    while t < tout:\n",
      "            \n",
      "        if t + dt > tout:\n",
      "            dt = tout - t\n",
      "            dobreak = True\n",
      "        \n",
      "\n",
      "        ax0 = A(x)\n",
      "        bx0 = B(x)\n",
      "        \n",
      "#         x += dt * ax0 + sqrt(dt) * bx0 * rands[i]\n",
      "        x += dt * ax0 + sqrt(dt) * bx0 * rv.normal(sqrt(dt))\n",
      "        \n",
      "        if dobreak:\n",
      "            break\n",
      "\n",
      "        t += dt\n",
      "        i+=1\n",
      "        \n",
      "    return x\n",
      "\n",
      "\n",
      "def sde(double x, np.ndarray[np.float64_t] tout, double dt=.01):\n",
      "    \n",
      "    cdef double t, tNext, t0\n",
      "\n",
      "    \n",
      "    t = tout[0]\n",
      "    \n",
      "    cdef np.ndarray[np.float64_t] xout = np.empty_like(tout)\n",
      "    dt = min(dt, np.diff(tout).min())\n",
      "    \n",
      "    cdef int i\n",
      "\n",
      "    xout[0] = x\n",
      "    for i in xrange(tout.shape[0]-1):\n",
      "        t0 = tout[i]\n",
      "        tNext = tout[i+1]\n",
      "        x= sdeevolve(x, tNext-t0, dt)\n",
      "        xout[i+1] = x\n",
      "        \n",
      "    return tout, xout"
     ],
     "language": "python",
     "metadata": {},
     "outputs": [],
     "prompt_number": 3
    },
    {
     "cell_type": "code",
     "collapsed": false,
     "input": [
      "x0 = 0.0\n",
      "tout = np.mgrid[0:100:.1]\n",
      "tout ,xout = sde(x0, tout, dt=.0001)\n",
      "plot(tout, xout)"
     ],
     "language": "python",
     "metadata": {},
     "outputs": [
      {
       "metadata": {},
       "output_type": "pyout",
       "prompt_number": 4,
       "text": [
        "[<matplotlib.lines.Line2D at 0x10d002a90>]"
       ]
      },
      {
       "metadata": {},
       "output_type": "display_data",
       "png": "[encoded data removed]",
       "text": [
        "<matplotlib.figure.Figure at 0x10c458110>"
       ]
      }
     ],
     "prompt_number": 4
    },
    {
     "cell_type": "heading",
     "level": 1,
     "metadata": {},
     "source": [
      "Using MKL"
     ]
    },
    {
     "cell_type": "code",
     "collapsed": false,
     "input": [
      "%%file sdemkl.pyx\n",
      "#cython: boundscheck=False\n",
      "#cython: wraparound=False\n",
      "##cython: profile=True\n",
      "cimport cython\n",
      "from cython.view cimport array as cvarray\n",
      "cimport numpy as np\n",
      "import numpy as np\n",
      "from libc.math cimport sqrt, fmin\n",
      "\n",
      "ctypedef void * mklRandomStream\n",
      "cdef extern from \"mkl.h\":\n",
      "    int VSL_BRNG_MT19937 \n",
      "    int VSL_RNG_METHOD_GAUSSIAN_BOXMULLER\n",
      "    int mkstream \"vslNewStream\"(mklRandomStream *, const int  , const int)\n",
      "    int mklgaussian \"vdRngGaussian\"(const int  ,mklRandomStream  , const int  , double [], const double  , const double  )\n",
      "\n",
      "cdef  mklRandomStream mklstream\n",
      "\n",
      "\n",
      "cdef double A(double x):\n",
      "    return -x\n",
      "cdef double B(double x):\n",
      "    return 1.0\n",
      "\n",
      "cdef  double a = 0\n",
      "\n",
      "\n",
      "\n",
      "cdef class RandN:\n",
      "    cdef mklRandomStream _strm \n",
      "\n",
      "    def __cinit__(self):\n",
      "        mkstream(&self._strm, VSL_BRNG_MT19937, 111)\n",
      "\n",
      "    def __call__(self, double sig):\n",
      "        cdef double r\n",
      "        mklgaussian( VSL_RNG_METHOD_GAUSSIAN_BOXMULLER, self._strm, 1, &r, a, sig )\n",
      "        return r\n",
      "\n",
      "    cdef double n (self, double sig):\n",
      "        cdef double r\n",
      "        mklgaussian( VSL_RNG_METHOD_GAUSSIAN_BOXMULLER, self._strm, 1, &r, a, sig )\n",
      "        return r\n",
      "\n",
      "\n",
      "\n",
      "cdef RandN rv = RandN()\n",
      "\n",
      "cdef double sdeevolve(double x, double tout, double dt):\n",
      "    cdef double t, ax0, bx0\n",
      "#     cdef np.ndarray[np.float64_t] rands = np.random.randn(int(tout/dt) + 1)\n",
      "    cdef int i = 0\n",
      "    cdef bint dobreak\n",
      "\n",
      "    \n",
      "    t = 0.0\n",
      "    \n",
      "    if tout < 1e-9 : t  = tout +1\n",
      "    \n",
      "    while t < tout:\n",
      "            \n",
      "        if t + dt > tout:\n",
      "            dt = tout - t\n",
      "            dobreak = True\n",
      "        \n",
      "\n",
      "        ax0 = A(x)\n",
      "        bx0 = B(x)\n",
      "        \n",
      "#         x += dt * ax0 + sqrt(dt) * bx0 * rands[i]\n",
      "        x += dt * ax0 +  bx0 * rv.n(sqrt(dt)) \n",
      "        \n",
      "        if dobreak:\n",
      "            break\n",
      "\n",
      "        t += dt\n",
      "        i+=1\n",
      "        \n",
      "    return x\n",
      "\n",
      "\n",
      "def sde(double x, np.ndarray[np.float64_t] tout, double dt=.01):\n",
      "    \n",
      "    cdef double t, tNext, t0\n",
      "    \n",
      "    t = tout[0]\n",
      "    \n",
      "    cdef np.ndarray[np.float64_t] xout = np.empty_like(tout)\n",
      "    dt = min(dt, np.diff(tout).min())\n",
      "    \n",
      "    cdef int i\n",
      "\n",
      "    xout[0] = x\n",
      "    for i in xrange(tout.shape[0]-1):\n",
      "        t0 = tout[i]\n",
      "        tNext = tout[i+1]\n",
      "        x= sdeevolve(x, tNext-t0, dt)\n",
      "        xout[i+1] = x\n",
      "        \n",
      "    return tout, xout\n"
     ],
     "language": "python",
     "metadata": {},
     "outputs": [
      {
       "output_type": "stream",
       "stream": "stdout",
       "text": [
        "Overwriting sdemkl.pyx\n"
       ]
      }
     ],
     "prompt_number": 5
    },
    {
     "cell_type": "code",
     "collapsed": false,
     "input": [
      "%%file setup.py\n",
      "\n",
      "from distutils.core import setup\n",
      "from distutils.extension import Extension\n",
      "from Cython.Distutils import build_ext\n",
      "import numpy as np                           # <---- New line\n",
      "\n",
      "ext_modules = [Extension(\"sde\",\n",
      "    sources = [\"sdemkl.pyx\"],\n",
      "    libraries = ['mkl_intel_lp64', 'mkl_sequential', 'mkl_core', 'pthread', 'm'],\n",
      "    )]\n",
      "\n",
      "setup(\n",
      "    name = 'sde',\n",
      "    cmdclass = {'build_ext': build_ext},\n",
      "    include_dirs = [np.get_include(), '/opt/intel/mkl/include'],         # <---- New line\n",
      "    library_dirs=['/opt/intel/mkl/lib'],\n",
      "    ext_modules = ext_modules\n",
      ")\n",
      "# -lmkl_intel_lp64 -lmkl_sequential -lmkl_core -lpthread -lm\n"
     ],
     "language": "python",
     "metadata": {},
     "outputs": [
      {
       "output_type": "stream",
       "stream": "stdout",
       "text": [
        "Overwriting setup.py\n"
       ]
      }
     ],
     "prompt_number": 6
    },
    {
     "cell_type": "code",
     "collapsed": false,
     "input": [
      "!python setup.py build_ext --inplace"
     ],
     "language": "python",
     "metadata": {},
     "outputs": [
      {
       "output_type": "stream",
       "stream": "stdout",
       "text": [
        "/Applications/Canopy.app/appdata/canopy-1.4.1.1975.macosx-x86_64/Canopy.app/Contents/lib/python2.7/distutils/dist.py:267: UserWarning: Unknown distribution option: 'library_dirs'\r\n",
        "  warnings.warn(msg)\r\n",
        "running build_ext\r\n"
       ]
      },
      {
       "output_type": "stream",
       "stream": "stdout",
       "text": [
        "cythoning sdemkl.pyx to sdemkl.c\r\n"
       ]
      },
      {
       "output_type": "stream",
       "stream": "stdout",
       "text": [
        "building 'sde' extension\r\n",
        "gcc -fno-strict-aliasing -fno-common -dynamic -arch x86_64 -DNDEBUG -g -O3 -arch x86_64 -I/Users/noah/Library/Enthought/Canopy_64bit/User/lib/python2.7/site-packages/numpy/core/include -I/opt/intel/mkl/include -I/Applications/Canopy.app/appdata/canopy-1.4.1.1975.macosx-x86_64/Canopy.app/Contents/include/python2.7 -c sdemkl.c -o build/temp.macosx-10.6-x86_64-2.7/sdemkl.o\r\n"
       ]
      },
      {
       "output_type": "stream",
       "stream": "stdout",
       "text": [
        "In file included from sdemkl.c:314:\r\n",
        "In file included from /Users/noah/Library/Enthought/Canopy_64bit/User/lib/python2.7/site-packages/numpy/core/include/numpy/arrayobject.h:4:\r\n",
        "In file included from /Users/noah/Library/Enthought/Canopy_64bit/User/lib/python2.7/site-packages/numpy/core/include/numpy/ndarrayobject.h:17:\r\n",
        "In file included from /Users/noah/Library/Enthought/Canopy_64bit/User/lib/python2.7/site-packages/numpy/core/include/numpy/ndarraytypes.h:1761:\r\n",
        "\u001b[1m/Users/noah/Library/Enthought/Canopy_64bit/User/lib/python2.7/site-packages/numpy/core/include/numpy/npy_1_7_deprecated_api.h:15:2: \u001b[0m\u001b[0;1;35mwarning: \u001b[0m\u001b[1m\r\n",
        "      \"Using deprecated NumPy API, disable it by \"          \"#defining\r\n",
        "      NPY_NO_DEPRECATED_API NPY_1_7_API_VERSION\" [-W#warnings]\u001b[0m\r\n",
        "#warning \"Using deprecated NumPy API, disable it by \" \\\r\n",
        "\u001b[0;1;32m ^\r\n",
        "\u001b[0m"
       ]
      },
      {
       "output_type": "stream",
       "stream": "stdout",
       "text": [
        "1 warning generated.\r\n"
       ]
      },
      {
       "output_type": "stream",
       "stream": "stdout",
       "text": [
        "gcc -bundle -undefined dynamic_lookup -g -arch x86_64 -headerpad_max_install_names -arch x86_64 build/temp.macosx-10.6-x86_64-2.7/sdemkl.o -lmkl_intel_lp64 -lmkl_sequential -lmkl_core -lpthread -lm -o /Users/noah/Dropbox/gnl/ipynb/sde.so\r\n"
       ]
      }
     ],
     "prompt_number": 7
    },
    {
     "cell_type": "code",
     "collapsed": false,
     "input": [
      "import sde as sdemkl\n",
      "tout, xout = sdemkl.sde(x0, tout, dt=.01)\n",
      "plot(tout, xout)"
     ],
     "language": "python",
     "metadata": {},
     "outputs": [
      {
       "metadata": {},
       "output_type": "pyout",
       "prompt_number": 8,
       "text": [
        "[<matplotlib.lines.Line2D at 0x10d02b290>]"
       ]
      },
      {
       "metadata": {},
       "output_type": "display_data",
       "png": "[encoded data removed]",
       "text": [
        "<matplotlib.figure.Figure at 0x10c46ae10>"
       ]
      }
     ],
     "prompt_number": 8
    },
    {
     "cell_type": "heading",
     "level": 1,
     "metadata": {},
     "source": [
      "Comparison"
     ]
    },
    {
     "cell_type": "code",
     "collapsed": false,
     "input": [
      "tout = np.mgrid[0:100.0:.1]\n",
      "x0 = 0\n",
      "dtmax= .001\n",
      "\n",
      "%timeit sdemkl.sde(x0, tout, dt=dtmax)\n",
      "%timeit sde(x0, tout, dt=dtmax)\n",
      "%timeit sdepy(x0, tout, lambda x:-x, lambda x:1.0, dt=dtmax)"
     ],
     "language": "python",
     "metadata": {},
     "outputs": [
      {
       "output_type": "stream",
       "stream": "stdout",
       "text": [
        "1000 loops, best of 3: 1.04 ms per loop\n",
        "10000 loops, best of 3: 162 \u00b5s per loop"
       ]
      },
      {
       "output_type": "stream",
       "stream": "stdout",
       "text": [
        "\n",
        "1 loops, best of 3: 428 ms per loop"
       ]
      },
      {
       "output_type": "stream",
       "stream": "stdout",
       "text": [
        "\n"
       ]
      }
     ],
     "prompt_number": 9
    },
    {
     "cell_type": "markdown",
     "metadata": {},
     "source": [
      "GSL is far and away the winner. It is around 3000x faster than the pure python code."
     ]
    },
    {
     "cell_type": "heading",
     "level": 1,
     "metadata": {},
     "source": [
      "Theano way to calculate SDE"
     ]
    },
    {
     "cell_type": "code",
     "collapsed": false,
     "input": [
      "import theano\n",
      "import theano.tensor as T\n",
      "from theano.tensor import sqrt\n",
      "\n",
      "from theano.tensor.shared_randomstreams import RandomStreams\n",
      "\n"
     ],
     "language": "python",
     "metadata": {},
     "outputs": [],
     "prompt_number": 10
    },
    {
     "cell_type": "code",
     "collapsed": false,
     "input": [
      "\n",
      "def A(x):\n",
      "    return -x\n",
      "def B(x):\n",
      "    return 1.0\n",
      "\n",
      "def onestep(x, dt):\n",
      "    return x + A(x) * dt + sqrt(dt) * B(x) * rv\n",
      "\n",
      "srng = RandomStreams(seed=31415)\n",
      "\n",
      "x = T.dscalar(\"x\")\n",
      "dt = T.dscalar(\"dt\")\n",
      "\n",
      "rv = srng.normal()\n",
      "\n",
      "xout, updates = theano.scan(onestep, non_sequences=[dt], n_steps=100, outputs_info=[x,])\n",
      "\n",
      "sde = theano.function(inputs=[x, dt], outputs=xout, updates=updates, allow_input_downcast=True)"
     ],
     "language": "python",
     "metadata": {},
     "outputs": [
      {
       "output_type": "stream",
       "stream": "stderr",
       "text": [
        "/Users/noah/epd/lib/python2.7/site-packages/theano/scan_module/scan_perform_ext.py:85: RuntimeWarning: numpy.ndarray size changed, may indicate binary incompatibility\n",
        "  from scan_perform.scan_perform import *\n"
       ]
      }
     ],
     "prompt_number": 11
    },
    {
     "cell_type": "code",
     "collapsed": false,
     "input": [
      "sde(0.0, .01)"
     ],
     "language": "python",
     "metadata": {},
     "outputs": [
      {
       "metadata": {},
       "output_type": "pyout",
       "prompt_number": 12,
       "text": [
        "array([ 0.09437863,  0.24098799,  0.16236896,  0.33597058,  0.39227402,\n",
        "        0.42859804,  0.4297515 ,  0.41065422,  0.42676154,  0.46194971,\n",
        "        0.23951774,  0.22655675,  0.22447993,  0.2832613 ,  0.30663556,\n",
        "        0.2521183 ,  0.15739451,  0.20163056,  0.44691499,  0.49963293,\n",
        "        0.44309233,  0.45447732,  0.76954386,  0.99497569,  0.94931493,\n",
        "        1.00052418,  0.94978512,  0.87785128,  0.94674234,  0.99830616,\n",
        "        1.01836497,  1.13322821,  1.24859349,  1.10906753,  1.1890498 ,\n",
        "        1.14122232,  1.09423422,  1.08703787,  1.01070417,  1.0176151 ,\n",
        "        0.93632021,  0.97563049,  0.87088073,  0.697739  ,  0.73428342,\n",
        "        0.71105801,  0.7295656 ,  0.77290335,  0.87487668,  0.70402478,\n",
        "        0.84913249,  0.92544088,  0.86158857,  0.85057093,  0.9961133 ,\n",
        "        1.07968195,  0.97135231,  0.86316631,  0.7943823 ,  0.72409596,\n",
        "        0.92205431,  0.8814426 ,  1.0044605 ,  1.00126224,  0.90335298,\n",
        "        0.82920857,  0.70217597,  0.7704939 ,  0.69542109,  0.56746137,\n",
        "        0.60785471,  0.58045189,  0.6764967 ,  0.63270697,  0.66330246,\n",
        "        0.72481229,  0.64581193,  0.7229394 ,  0.72425885,  0.82994694,\n",
        "        0.78466216,  0.76627463,  0.83304857,  0.68643934,  0.58504504,\n",
        "        0.42661802,  0.51153621,  0.4141255 ,  0.37583259,  0.35615542,\n",
        "        0.24124443,  0.11700228,  0.0925223 ,  0.01597322, -0.04461747,\n",
        "       -0.01722394,  0.0083655 ,  0.17626539,  0.09930939,  0.13939293])"
       ]
      }
     ],
     "prompt_number": 12
    }
   ],
   "metadata": {}
  }
 ]
}