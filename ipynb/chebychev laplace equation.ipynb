{
 "cells": [
  {
   "cell_type": "code",
   "execution_count": 13,
   "metadata": {
    "collapsed": false
   },
   "outputs": [],
   "source": [
    "import numpy as np\n",
    "from numpy import zeros\n",
    "import numpy.polynomial.chebyshev as C\n",
    "from scipy.linalg import solve\n",
    "\n",
    "def laplace_solve(x, f, k=0):\n",
    "    \"\"\"\n",
    "    Laplacian solve with mixed derivatives on boundary of the form\n",
    "    \n",
    "    u_z + k u = 0\n",
    "    \n",
    "    this is used for the vorticity inversion in Xing\n",
    "    \"\"\"\n",
    "    \n",
    "    a = 0\n",
    "    b = 0\n",
    "    \n",
    "    n = x.shape[0]-1\n",
    "\n",
    "    # x does not need to be (-1,1)\n",
    "    scal = 2/(x.max()-x.min()) \n",
    "    xx = (x-x.min())/(x.max()-x.min()) * 2 -1\n",
    "\n",
    "    # Identity matrix   \n",
    "    I = np.eye(n+1)\n",
    "\n",
    "    # derivative matrices (n+1)x(n-1)\n",
    "    D = C.chebder(I,1, scl=scal)\n",
    "    D2 = C.chebder(I,2, scl=scal)\n",
    "\n",
    "    # Chebshev Vandermonde matrix\n",
    "    V = C.chebvander(xx,n)\n",
    "\n",
    "\n",
    "    # Transform forcing function to mode space\n",
    "    fhat = solve(V,f)\n",
    "\n",
    "    # Boundary operators for last two rows (tau conditions)\n",
    "    # First and last rows of Vandermonde contain the boundary\n",
    "    # values of the Chebyshev polynomials  \n",
    "    B = zeros((2, V.shape[1]))\n",
    "    B[0,:] = V[0,:]\n",
    "    B[1,:] = k* V[-1,:] + C.chebval(1.0, D)\n",
    "\n",
    "    # Left-hand-side\n",
    "    A = -D2\n",
    "    L = np.vstack((A,B))\n",
    "\n",
    "    # Insert boundary values into the last two elements of \n",
    "    # the right-hand-side\n",
    "    fhat[-2] = a\n",
    "    fhat[-1] = b\n",
    "\n",
    "    # Compute expansion coefficients of the solution\n",
    "    yhat = solve(L,fhat)\n",
    "\n",
    "    # Transform solution to point space\n",
    "    y = V.dot(yhat)\n",
    "    \n",
    "    return y"
   ]
  },
  {
   "cell_type": "code",
   "execution_count": 12,
   "metadata": {
    "collapsed": false,
    "scrolled": true
   },
   "outputs": [
    {
     "data": {
      "image/png": "[encoded data removed]",
      "text/plain": [
       "<matplotlib.figure.Figure at 0x10fe04668>"
      ]
     },
     "metadata": {},
     "output_type": "display_data"
    }
   ],
   "source": [
    "%matplotlib inline\n",
    "import matplotlib.pyplot as plt\n",
    "# Chebyshev-Gauss-Lobatto points\n",
    "x= np.linspace(-1,1,30)\n",
    "# Forcing function \n",
    "f = 1 + np.tanh(4*x)\n",
    "f = np.sin(np.pi*x)\n",
    "y=laplace_solve(x,f, k=1)\n",
    "\n",
    "# Plot solution\n",
    "plt.plot(x,y,lw=2)\n",
    "plt.show()"
   ]
  }
 ],
 "metadata": {
  "kernelspec": {
   "display_name": "Python 3",
   "language": "python",
   "name": "python3"
  },
  "language_info": {
   "codemirror_mode": {
    "name": "ipython",
    "version": 3
   },
   "file_extension": ".py",
   "mimetype": "text/x-python",
   "name": "python",
   "nbconvert_exporter": "python",
   "pygments_lexer": "ipython3",
   "version": "3.5.1"
  }
 },
 "nbformat": 4,
 "nbformat_minor": 0
}
