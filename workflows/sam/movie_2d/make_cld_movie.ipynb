{
 "cells": [
  {
   "cell_type": "code",
   "execution_count": 1,
   "metadata": {
    "collapsed": true
   },
   "outputs": [],
   "source": [
    "from PIL import Image"
   ]
  },
  {
   "cell_type": "code",
   "execution_count": 2,
   "metadata": {
    "collapsed": true
   },
   "outputs": [],
   "source": [
    "import xarray as xr\n",
    "from xnoah.xarray import coarsen\n",
    "import numpy as np\n",
    "import matplotlib.pyplot as plt\n",
    "from glob import glob\n",
    "from tqdm import tqdm_notebook as tqdm\n",
    "import dask.bag as db\n",
    "from dask.diagnostics import ProgressBar\n",
    "import os, re\n",
    "\n",
    "\n",
    "\n",
    "path=\"/home/disk/eos13/guest/SAM6.10.6_NG/OUT_2D\"\n",
    "file=\"NG_5120x2560x34_4km_10s_QOBS_EQX_1280_0000858600.2Dcom_001.nc\"\n",
    "\n",
    "! mkdir -p frames\n",
    "\n",
    "\n",
    "def make_image(args):\n",
    "    k, file = args\n",
    "    \n",
    "    f = xr.open_dataset(file, cache=False)\n",
    "    i = int(f.time * 84000)\n",
    "    filename = \"frames/%05d.png\"%k\n",
    "    \n",
    "    if not os.path.exists(filename):\n",
    "        img = f.CLD.coarsen(x=4, y=4).values\n",
    "        cmap = plt.get_cmap('bone')\n",
    "        bits = np.uint8(cmap(img[0,...]/100)*255)\n",
    "        im = Image.fromarray(bits)\n",
    "        im.save(filename)\n",
    "        \n",
    "    return filename\n"
   ]
  },
  {
   "cell_type": "code",
   "execution_count": 5,
   "metadata": {
    "collapsed": true
   },
   "outputs": [],
   "source": [
    "pattern = \"/home/disk/eos13/guest/SAM6.10.6_NG/OUT_2D/NG_5120x2560x34_4km_10s_QOBS_EQX_1280_*.nc\"\n",
    "files = enumerate(sorted(glob(pattern)))"
   ]
  },
  {
   "cell_type": "code",
   "execution_count": 6,
   "metadata": {
    "collapsed": true,
    "scrolled": false
   },
   "outputs": [],
   "source": [
    "ims = db.from_sequence(files).map(make_image)\n",
    "ims = ims.compute(num_workers=16)"
   ]
  },
  {
   "cell_type": "code",
   "execution_count": 11,
   "metadata": {},
   "outputs": [
    {
     "name": "stdout",
     "output_type": "stream",
     "text": [
      "ffmpeg version 2.6.8 Copyright (c) 2000-2016 the FFmpeg developers\n",
      "  built with gcc 4.8.5 (GCC) 20150623 (Red Hat 4.8.5-4)\n",
      "  configuration: --prefix=/usr --bindir=/usr/bin --datadir=/usr/share/ffmpeg --incdir=/usr/include/ffmpeg --libdir=/usr/lib64 --mandir=/usr/share/man --arch=x86_64 --optflags='-O2 -g -pipe -Wall -Wp,-D_FORTIFY_SOURCE=2 -fexceptions -fstack-protector-strong --param=ssp-buffer-size=4 -grecord-gcc-switches -m64 -mtune=generic' --enable-bzlib --disable-crystalhd --enable-gnutls --enable-ladspa --enable-libass --enable-libcdio --enable-libdc1394 --enable-libfaac --enable-nonfree --enable-libfdk-aac --enable-nonfree --disable-indev=jack --enable-libfreetype --enable-libgsm --enable-libmp3lame --enable-openal --enable-libopenjpeg --enable-libopus --enable-libpulse --enable-libschroedinger --enable-libsoxr --enable-libspeex --enable-libtheora --enable-libvorbis --enable-libv4l2 --enable-libx264 --enable-libx265 --enable-libxvid --enable-x11grab --enable-avfilter --enable-avresample --enable-postproc --enable-pthreads --disable-static --enable-shared --enable-gpl --disable-debug --disable-stripping --shlibdir=/usr/lib64 --enable-runtime-cpudetect\n",
      "  libavutil      54. 20.100 / 54. 20.100\n",
      "  libavcodec     56. 26.100 / 56. 26.100\n",
      "  libavformat    56. 25.101 / 56. 25.101\n",
      "  libavdevice    56.  4.100 / 56.  4.100\n",
      "  libavfilter     5. 11.102 /  5. 11.102\n",
      "  libavresample   2.  1.  0 /  2.  1.  0\n",
      "  libswscale      3.  1.101 /  3.  1.101\n",
      "  libswresample   1.  1.100 /  1.  1.100\n",
      "  libpostproc    53.  3.100 / 53.  3.100\n",
      "Input #0, image2, from 'frames/%05d.png':\n",
      "  Duration: 00:01:04.00, start: 0.000000, bitrate: N/A\n",
      "    Stream #0:0: Video: png, rgba, 1280x640, 30 fps, 30 tbr, 30 tbn, 30 tbc\n",
      "\u001b[1;36m[libx264 @ 0xabb0e0] \u001b[0musing cpu capabilities: MMX2 SSE2Fast SSSE3 SSE4.2 AVX\n",
      "\u001b[1;36m[libx264 @ 0xabb0e0] \u001b[0mprofile High, level 3.1\n",
      "\u001b[1;36m[libx264 @ 0xabb0e0] \u001b[0m264 - core 142 r2495 6a301b6 - H.264/MPEG-4 AVC codec - Copyleft 2003-2014 - http://www.videolan.org/x264.html - options: cabac=1 ref=3 deblock=1:0:0 analyse=0x3:0x113 me=hex subme=7 psy=1 psy_rd=1.00:0.00 mixed_ref=1 me_range=16 chroma_me=1 trellis=1 8x8dct=1 cqm=0 deadzone=21,11 fast_pskip=1 chroma_qp_offset=-2 threads=48 lookahead_threads=5 sliced_threads=0 nr=0 decimate=1 interlaced=0 bluray_compat=0 constrained_intra=0 bframes=3 b_pyramid=2 b_adapt=1 b_bias=0 direct=1 weightb=1 open_gop=0 weightp=2 keyint=250 keyint_min=25 scenecut=40 intra_refresh=0 rc_lookahead=40 rc=crf mbtree=1 crf=26.0 qcomp=0.60 qpmin=0 qpmax=69 qpstep=4 ip_ratio=1.40 aq=1:1.00\n",
      "Output #0, mp4, to 'test.mp4':\n",
      "  Metadata:\n",
      "    encoder         : Lavf56.25.101\n",
      "    Stream #0:0: Video: h264 (libx264) ([33][0][0][0] / 0x0021), yuv420p, 1280x640, q=-1--1, 30 fps, 15360 tbn, 30 tbc\n",
      "    Metadata:\n",
      "      encoder         : Lavc56.26.100 libx264\n",
      "Stream mapping:\n",
      "  Stream #0:0 -> #0:0 (png (native) -> h264 (libx264))\n",
      "Press [q] to stop, [?] for help\n",
      "frame= 1920 fps= 66 q=-1.0 Lsize=  169838kB time=00:01:03.93 bitrate=21761.9kbits/s    \n",
      "video:169813kB audio:0kB subtitle:0kB other streams:0kB global headers:0kB muxing overhead: 0.014370%\n",
      "\u001b[1;36m[libx264 @ 0xabb0e0] \u001b[0mframe I:9     Avg QP:32.06  size:171708\n",
      "\u001b[1;36m[libx264 @ 0xabb0e0] \u001b[0mframe P:1021  Avg QP:34.73  size:118971\n",
      "\u001b[1;36m[libx264 @ 0xabb0e0] \u001b[0mframe B:890   Avg QP:35.97  size: 57161\n",
      "\u001b[1;36m[libx264 @ 0xabb0e0] \u001b[0mconsecutive B-frames:  7.3% 92.7%  0.0%  0.0%\n",
      "\u001b[1;36m[libx264 @ 0xabb0e0] \u001b[0mmb I  I16..4:  1.0% 49.6% 49.4%\n",
      "\u001b[1;36m[libx264 @ 0xabb0e0] \u001b[0mmb P  I16..4:  0.2% 35.1% 20.5%  P16..4: 14.0% 19.0% 11.0%  0.0%  0.0%    skip: 0.2%\n",
      "\u001b[1;36m[libx264 @ 0xabb0e0] \u001b[0mmb B  I16..4:  0.0%  0.8%  0.6%  B16..8: 40.4% 16.2%  7.5%  direct:30.7%  skip: 3.8%  L0:14.2% L1:19.5% BI:66.3%\n",
      "\u001b[1;36m[libx264 @ 0xabb0e0] \u001b[0m8x8 transform intra:62.5% inter:38.0%\n",
      "\u001b[1;36m[libx264 @ 0xabb0e0] \u001b[0mcoded y,uvDC,uvAC intra: 97.2% 43.8% 1.3% inter: 77.7% 6.7% 0.0%\n",
      "\u001b[1;36m[libx264 @ 0xabb0e0] \u001b[0mi16 v,h,dc,p: 12% 32% 29% 28%\n",
      "\u001b[1;36m[libx264 @ 0xabb0e0] \u001b[0mi8 v,h,dc,ddl,ddr,vr,hd,vl,hu:  5% 15% 18%  8% 10%  6% 15%  6% 16%\n",
      "\u001b[1;36m[libx264 @ 0xabb0e0] \u001b[0mi4 v,h,dc,ddl,ddr,vr,hd,vl,hu:  6% 14% 16%  9% 12%  8% 15%  6% 13%\n",
      "\u001b[1;36m[libx264 @ 0xabb0e0] \u001b[0mi8c dc,h,v,p: 78% 15%  7%  1%\n",
      "\u001b[1;36m[libx264 @ 0xabb0e0] \u001b[0mWeighted P-Frames: Y:65.7% UV:0.0%\n",
      "\u001b[1;36m[libx264 @ 0xabb0e0] \u001b[0mref P L0: 58.0% 16.4% 16.3%  6.2%  3.0%\n",
      "\u001b[1;36m[libx264 @ 0xabb0e0] \u001b[0mref B L0: 99.5%  0.5%\n",
      "\u001b[1;36m[libx264 @ 0xabb0e0] \u001b[0mkb/s:21735.99\n"
     ]
    }
   ],
   "source": [
    "!ffmpeg  -y -r 30 -f image2 -s 1280x600 -i frames/%05d.png -vcodec libx264 -crf 26  -pix_fmt yuv420p test.mp4"
   ]
  },
  {
   "cell_type": "code",
   "execution_count": 12,
   "metadata": {},
   "outputs": [
    {
     "data": {
      "text/plain": [
       "<xarray.Dataset>\n",
       "Dimensions:  (time: 1, x: 5120, y: 2560)\n",
       "Coordinates:\n",
       "  * x        (x) float32 0.0 4000.0 8000.0 12000.0 16000.0 20000.0 24000.0 ...\n",
       "  * y        (y) float32 0.0 4000.0 8000.0 12000.0 16000.0 20000.0 24000.0 ...\n",
       "  * time     (time) float32 179.875\n",
       "Data variables:\n",
       "    Prec     (time, y, x) float32 0.0 0.0 0.0 0.0 0.0 0.0 0.0 0.0 0.0 0.0 ...\n",
       "    SHF      (time, y, x) float32 -2.36329 -0.863396 -6.05349 -4.18458 ...\n",
       "    LHF      (time, y, x) float32 23.9857 25.8336 21.9444 27.1687 22.1766 ...\n",
       "    LWNS     (time, y, x) float32 87.1403 85.2597 77.7035 64.6239 85.2025 ...\n",
       "    LWNSC    (time, y, x) float32 108.197 108.67 107.153 107.714 107.531 ...\n",
       "    LWNT     (time, y, x) float32 237.212 244.916 238.165 229.48 239.661 ...\n",
       "    LWNTC    (time, y, x) float32 250.142 250.103 249.994 250.01 250.19 ...\n",
       "    SOLIN    (time, y, x) float32 0.0 0.0 0.0 0.0 0.0 0.0 0.0 0.0 0.0 0.0 ...\n",
       "    SWNS     (time, y, x) float32 0.0 0.0 0.0 0.0 0.0 0.0 0.0 0.0 0.0 0.0 ...\n",
       "    SWNSC    (time, y, x) float32 0.0 0.0 0.0 0.0 0.0 0.0 0.0 0.0 0.0 0.0 ...\n",
       "    SWNT     (time, y, x) float32 0.0 0.0 0.0 0.0 0.0 0.0 0.0 0.0 0.0 0.0 ...\n",
       "    SWNTC    (time, y, x) float32 0.0 0.0 0.0 0.0 0.0 0.0 0.0 0.0 0.0 0.0 ...\n",
       "    CWP      (time, y, x) float32 0.00579632 0.00579632 0.00598329 ...\n",
       "    IWP      (time, y, x) float32 0.00198493 0.000882191 0.00198493 ...\n",
       "    CLD      (time, y, x) float32 20.5563 24.1672 23.6125 38.3344 22.5 ...\n",
       "    PW       (time, y, x) float32 6.53445 6.63516 6.58151 6.55987 6.46951 ...\n",
       "    TA       (time, y, x) float32 243.077 243.064 243.077 243.073 243.084 ...\n",
       "    USFC     (time, y, x) float32 -6.11674 -7.41942 -5.92728 -7.87576 ...\n",
       "    U200     (time, y, x) float32 -12.3762 -11.988 -11.8158 -11.0685 -11.692 ...\n",
       "    VSFC     (time, y, x) float32 0.000213623 0.000213623 0.000213623 ...\n",
       "    V200     (time, y, x) float32 -0.000850677 -0.000850677 -0.000850677 ...\n",
       "    W500     (time, y, x) float32 -0.0282063 -0.084404 -0.0790377 0.0572085 ...\n",
       "    SST      (time, y, x) float32 278.077 278.077 278.077 278.077 278.077 ...\n",
       "    PSFC     (time, y, x) float32 1000.33 1000.35 1000.33 1000.34 1000.31 ...\n",
       "    SWVP     (time, y, x) float32 17.6497 17.5996 17.6471 17.6523 17.7152 ...\n",
       "    U850     (time, y, x) float32 -21.5844 -22.2421 -21.8704 -22.2476 ...\n",
       "    V850     (time, y, x) float32 0.000408173 0.000408173 0.000408173 ...\n",
       "    ZC       (time, y, x) float32 0.0 0.0 0.0 0.0 0.0 0.0 0.0 0.0 0.0 0.0 ...\n",
       "    TB       (time, y, x) float32 278.077 278.077 278.077 278.077 278.077 ...\n",
       "    ZE       (time, y, x) float32 0.0 0.0 0.0 0.0 0.0 0.0 0.0 0.0 0.0 0.0 ...\n",
       "    CLDC     (time, y, x) float32 0.0 0.0 0.0 0.0 0.0 0.0 0.0 0.0 0.0 0.0 ..."
      ]
     },
     "execution_count": 12,
     "metadata": {},
     "output_type": "execute_result"
    }
   ],
   "source": [
    "xr.open_dataset(path+\"/\"+ file)"
   ]
  }
 ],
 "metadata": {
  "kernelspec": {
   "display_name": "Python 3",
   "language": "python",
   "name": "python3"
  },
  "language_info": {
   "codemirror_mode": {
    "name": "ipython",
    "version": 3
   },
   "file_extension": ".py",
   "mimetype": "text/x-python",
   "name": "python",
   "nbconvert_exporter": "python",
   "pygments_lexer": "ipython3",
   "version": "3.6.1"
  }
 },
 "nbformat": 4,
 "nbformat_minor": 2
}
