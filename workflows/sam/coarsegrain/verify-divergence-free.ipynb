{
 "cells": [
  {
   "cell_type": "markdown",
   "metadata": {},
   "source": [
    "In this notebook, I will develop tools to compute the exact advective tendencies using the velocities around the edge."
   ]
  },
  {
   "cell_type": "code",
   "execution_count": null,
   "metadata": {},
   "outputs": [],
   "source": [
    "from xnoah.sam import coarsen\n",
    "import numpy as np\n",
    "import dask.array as da"
   ]
  },
  {
   "cell_type": "code",
   "execution_count": null,
   "metadata": {},
   "outputs": [],
   "source": [
    "import matplotlib.pyplot as plt\n",
    "%matplotlib inline"
   ]
  },
  {
   "cell_type": "markdown",
   "metadata": {},
   "source": [
    "# Load the data"
   ]
  },
  {
   "cell_type": "code",
   "execution_count": null,
   "metadata": {},
   "outputs": [],
   "source": [
    "import glob, os, re\n",
    "from toolz import assoc, groupby, keymap, valmap\n",
    "from toolz.curried import get, map, groupby\n",
    "from collections import defaultdict\n",
    "import xarray as xr\n",
    "\n",
    "directory = \"/home/disk/eos7/guest/SAM6.10.6_NG/continuation/OUT_3D\"\n",
    "files = os.listdir(directory)\n",
    "\n",
    "# define a regex for reading the filenames\n",
    "pattern = re.compile(r\"(?P<run>.*)_(?P<time>\\d+)_(?P<field>\\w+)\\.nc\")\n",
    "\n",
    "# parse files to list of dicts\n",
    "file_matches = map(pattern.search, files)\n",
    "file_info = [assoc(m.groupdict(), 'path', m.string) for m in file_matches]\n",
    "\n",
    "# get list of runs\n",
    "runs = groupby(get('run'), file_info)\n",
    "runs = valmap(groupby('time'), runs)\n",
    "\n",
    "time_steps = keymap(int, runs['NG_5120x2560x34_4km_10s_QOBS_EQX_1280'])\n",
    "time_steps = valmap(map(lambda x: os.path.join(directory, x['path']), ), time_steps)\n",
    "time_steps = valmap(list, time_steps)\n",
    "\n",
    "first_step = sorted(time_steps)[0]\n",
    "ds = xr.open_mfdataset(time_steps[first_step])\n",
    "first_step\n",
    "\n",
    "# Load 2D data\n",
    "files_2d = glob.glob(\"/home/disk/eos13/guest/SAM6.10.6_NG/OUT_2D/*\")\n",
    "pattern = re.compile(r\".*\\/(?P<run>.*)_(?P<time>\\d+)\\.2Dcom.*nc\")\n",
    "\n",
    "\n",
    "# find the corresponding 2d files\n",
    "for f in files_2d:\n",
    "    m = pattern.search(f)\n",
    "    if m:\n",
    "        if m.group('run') == 'NG_5120x2560x34_4km_10s_QOBS_EQX_1280':\n",
    "            if int(m.group('time')) == first_step:\n",
    "                a = m.string\n",
    "                \n",
    "                \n",
    "data_2d = xr.open_dataset(a)\n",
    "stat = xr.open_dataset(\"/home/disk/eos13/guest/SAM6.10.6_NG/OUT_STAT/NG_5120x2560x34_4km_10s_QOBS_EQX.nc\")"
   ]
  },
  {
   "cell_type": "markdown",
   "metadata": {},
   "source": [
    "# Divergence-free in slice"
   ]
  },
  {
   "cell_type": "code",
   "execution_count": null,
   "metadata": {},
   "outputs": [],
   "source": [
    "z = ds.z.values\n",
    "z = np.hstack((-z[0], z, z[-1]*2 - z[-2]))\n",
    "zh = .5*(z[1:] + z[:-1])\n",
    "dz = np.diff(zh)\n",
    "\n",
    "rho = stat.RHO[-1].values\n",
    "rho.shape = (-1,  1)\n",
    "dz.shape = (-1, 1)\n",
    "\n",
    "j = 1000\n",
    "\n",
    "u = ds.U.isel(y=j, time=0).values\n",
    "u = np.pad(u, [(0,0), (0, 1)], mode='wrap')\n",
    "\n",
    "v = ds.V.isel(y=slice(j,j+2), time=0).values\n",
    "w = ds.W.isel(y=j, time=0).values\n",
    "\n",
    "\n",
    "d = np.diff(u, axis=-1)/4000 + (v[:, 1,:]-v[:,0,:])/4000\n",
    "\n",
    "div_integral = -(rho * d * dz).cumsum(axis=0)"
   ]
  },
  {
   "cell_type": "code",
   "execution_count": null,
   "metadata": {},
   "outputs": [],
   "source": [
    "plt.plot(div_integral[-1])"
   ]
  },
  {
   "cell_type": "code",
   "execution_count": null,
   "metadata": {},
   "outputs": [],
   "source": [
    "plt.pcolormesh(div_integral, vmin=-3, vmax=3)\n",
    "plt.colorbar()"
   ]
  },
  {
   "cell_type": "code",
   "execution_count": null,
   "metadata": {},
   "outputs": [],
   "source": [
    "plt.pcolormesh(w*rho,  vmin=-3, vmax=3)\n",
    "plt.colorbar()"
   ]
  },
  {
   "cell_type": "code",
   "execution_count": null,
   "metadata": {},
   "outputs": [],
   "source": [
    "plt.plot((w*rho)[20,:100])\n",
    "plt.plot(div_integral[19,:100])"
   ]
  },
  {
   "cell_type": "markdown",
   "metadata": {},
   "source": [
    "This shows that the divergence free condition exactly matches in a slice."
   ]
  },
  {
   "cell_type": "markdown",
   "metadata": {},
   "source": [
    "# Break Data into blocks"
   ]
  },
  {
   "cell_type": "markdown",
   "metadata": {},
   "source": [
    "$$ - \\iint \\frac{1}{\\rho_0}(w  \\rho_0)_z dx dy  = \\iint  \\nabla \\cdot (u,v) dx dy = \\oint (u,v)\\cdot dS $$"
   ]
  },
  {
   "cell_type": "code",
   "execution_count": null,
   "metadata": {},
   "outputs": [],
   "source": [
    "from xnoah.sam import coarsen\n",
    "import numpy as np\n",
    "import dask.array as da\n",
    "\n",
    "dx = dy = 4000\n",
    "\n",
    "\n",
    "U = ds.U.values\n",
    "V = ds.V.values\n",
    "W = ds.W.values\n",
    "\n",
    "i,j = 10, 10\n",
    "\n",
    "ileft = 10 * 40 \n",
    "iright = 11*40\n",
    "\n",
    "jdown = j*40\n",
    "jup = (j+1)*40\n",
    "\n",
    "\n",
    "rho = np.reshape(rho, (-1))\n",
    "dz = np.reshape(dz, (-1))\n",
    "\n",
    "ux = (U[:,:,jdown:jup,iright]- U[:,:,jdown:jup, ileft]).sum(-1)*dy\n",
    "vy = (V[:,:,jup,ileft:iright]- V[:,:,jdown,ileft:iright]).sum(-1)*dx\n",
    "w = W[:,:,jdown:jup, ileft:iright].sum(-1).sum(-1)*dx*dy\n",
    "\n",
    "dij = (ux + vy)\n",
    "wpred = -(dij*rho*dz).cumsum(axis=1)\n",
    "\n",
    "plt.plot(np.arange(1,35), wpred[0])\n",
    "plt.plot(rho*w[0])\n",
    "# plt.plot(d[0,:,i,j])"
   ]
  },
  {
   "cell_type": "markdown",
   "metadata": {},
   "source": [
    "# Using windowsing"
   ]
  },
  {
   "cell_type": "code",
   "execution_count": null,
   "metadata": {},
   "outputs": [],
   "source": [
    "def blocks_view(U):\n",
    "    blocks = {2:40, 3: 40}\n",
    "    nt, nz, ny, nx = U.shape\n",
    "    return U.reshape((nt, nz, ny//blocks[2], blocks[2], nx//blocks[3], blocks[3]))\n",
    "\n",
    "\n",
    "Uw = blocks_view(U)\n",
    "Vw = blocks_view(V)\n",
    "Ww = blocks_view(W)\n",
    "\n",
    "ux = (Uw[:,:, j, :, i+1, 0] - Uw[:,:, j, :, i, 0]).sum(-1)*dy\n",
    "vy = (Vw[:,:, j+1, 0, i, :] - Vw[:,:, j, 0, i, :]).sum(-1)*dx\n",
    "\n",
    "U_int = Uw[:,:,:,:,:,0].sum(axis=-2)*dy\n",
    "V_int = Vw[:,:,:,0].sum(axis=-1)*dx\n",
    "ux = (U_int[:,:,j, i+1] - U_int[:,:, j, i])\n",
    "vy = (V_int[:,:, j+1, i] - V_int[:,:, j, i])\n",
    "\n",
    "d = ux + vy\n",
    "\n",
    "plt.plot(d[0])\n",
    "plt.plot(dij[0])"
   ]
  },
  {
   "cell_type": "markdown",
   "metadata": {},
   "source": [
    "# Full domain"
   ]
  },
  {
   "cell_type": "code",
   "execution_count": null,
   "metadata": {},
   "outputs": [],
   "source": [
    "from scipy.ndimage import correlate1d\n",
    "import xnoah.sam.regrid\n",
    "\n",
    "\n",
    "rho = np.reshape(rho, (-1, 1, 1))\n",
    "dz = np.reshape(dz, (-1, 1, 1))\n",
    "\n",
    "def diff(x, axis=-1, mode='wrap'):\n",
    "    return correlate1d(x, [-1, 1], axis=axis, mode=mode, origin=-1)\n",
    "\n",
    "ux = diff(U_int, axis=-1)\n",
    "vy = diff(V_int, axis=-2)\n",
    "\n",
    "d = ux + vy\n",
    "\n",
    "plt.plot(d[0,:,i,j])\n",
    "plt.plot(dij[0])"
   ]
  },
  {
   "cell_type": "markdown",
   "metadata": {},
   "source": [
    "this matches also."
   ]
  },
  {
   "cell_type": "markdown",
   "metadata": {},
   "source": [
    "## integrate to get w"
   ]
  },
  {
   "cell_type": "code",
   "execution_count": null,
   "metadata": {},
   "outputs": [],
   "source": [
    "d_int = -(d*rho*dz).cumsum(1)/dx/dy/40**2\n",
    "\n",
    "plt.pcolormesh(d_int[0,11,:], vmin=-.15, vmax=.15)\n",
    "plt.colorbar()"
   ]
  },
  {
   "cell_type": "markdown",
   "metadata": {},
   "source": [
    "Here is the true W"
   ]
  },
  {
   "cell_type": "code",
   "execution_count": null,
   "metadata": {},
   "outputs": [],
   "source": [
    "W_avg = Ww.mean(axis=-1).mean(axis=-2)\n",
    "plt.pcolormesh(rho[10]*W_avg[0,10], vmin=-.15, vmax=.15)\n",
    "plt.colorbar()"
   ]
  },
  {
   "cell_type": "markdown",
   "metadata": {},
   "source": [
    "They very closely match, as we can see."
   ]
  },
  {
   "cell_type": "markdown",
   "metadata": {},
   "source": [
    "# Using new API"
   ]
  },
  {
   "cell_type": "code",
   "execution_count": null,
   "metadata": {},
   "outputs": [],
   "source": [
    "from xnoah import sam\n",
    "\n",
    "rho = stat.RHO[-1]\n",
    "dz = sam.get_dz(rho.z)\n",
    "dm = rho*dz\n",
    "\n",
    "block_size = 40\n",
    "\n",
    "uw = sam.staggered_to_left(ds.U, block_size, 'x')\n",
    "ue = sam.staggered_to_right(ds.U, block_size, 'x')\n",
    "wc = sam.coarsen(ds.W, dict(x=block_size, y=block_size))\n",
    "vs = sam.staggered_to_left(ds.V, block_size, 'y')\n",
    "vn = sam.staggered_to_right(ds.V, block_size, 'y')\n",
    "\n",
    "\n",
    "uw, ue = [sam.coarsen_dim(x, block_size, 'y') for x in [uw, ue]]\n",
    "vs, vn = [sam.coarsen_dim(x, block_size, 'x') for x in [vs, vn]]\n",
    "\n",
    "dx = dy = 4000\n",
    "d = ((ue - uw) * dy * block_size + (vn-vs) * dx * block_size)/dx/dy/block_size/block_size\n",
    "d_int = -(d*rho*dz).cumsum('z').shift(z=1).fillna(0.0)\n",
    "w_pred = d_int.compute()\n",
    "\n",
    "# plot data\n",
    "w_pred.isel(time=0, x=10, y=30).plot()\n",
    "(rho*wc).isel(time=0, x=10, y=30).plot()\n",
    "plt.show()"
   ]
  },
  {
   "cell_type": "code",
   "execution_count": null,
   "metadata": {},
   "outputs": [],
   "source": [
    "w_pred.isel(z=10, time=0).plot()"
   ]
  },
  {
   "cell_type": "markdown",
   "metadata": {},
   "source": [
    "We can see that the new results pretty closely match the old ones. I bet the main differences are due to floating point errors from the averaging operations."
   ]
  }
 ],
 "metadata": {
  "kernelspec": {
   "display_name": "Python 3",
   "language": "python",
   "name": "python3"
  },
  "language_info": {
   "codemirror_mode": {
    "name": "ipython",
    "version": 3
   },
   "file_extension": ".py",
   "mimetype": "text/x-python",
   "name": "python",
   "nbconvert_exporter": "python",
   "pygments_lexer": "ipython3",
   "version": "3.6.1"
  }
 },
 "nbformat": 4,
 "nbformat_minor": 2
}
