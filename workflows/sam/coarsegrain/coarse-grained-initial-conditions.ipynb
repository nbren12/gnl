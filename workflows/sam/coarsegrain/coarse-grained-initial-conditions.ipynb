{
 "cells": [
  {
   "cell_type": "code",
   "execution_count": null,
   "metadata": {},
   "outputs": [],
   "source": [
    "%matplotlib inline"
   ]
  },
  {
   "cell_type": "code",
   "execution_count": null,
   "metadata": {},
   "outputs": [],
   "source": [
    "from glob import glob\n",
    "\n",
    "caseid = \"NG_5120x2560x34_4km_10s_QOBS_EQX_1280\"\n",
    "step = \"0000864000\"\n",
    "\n",
    "stagger_path = f\"tmp/stagger/{caseid}/{step}.nc\"\n",
    "center_path = \"/home/disk/eos4/nbren12/eos8/Data/id/2/NG_5120x2560x34_4km_10s_QOBS_EQX/coarse/3d/all.nc\"\n",
    "stat_path = \"/home/disk/eos4/nbren12/eos8/Data/id/2/NG_5120x2560x34_4km_10s_QOBS_EQX/stat.nc\"\n",
    "\n",
    "stag = xr.open_dataset(stagger_path)\n",
    "cent = xr.open_dataset(center_path, engine='netcdf4').sel(time=stag.time)\n",
    "stat = xr.open_dataset(stat_path)"
   ]
  },
  {
   "cell_type": "code",
   "execution_count": null,
   "metadata": {},
   "outputs": [],
   "source": [
    "stag.V[0,:, 0, :].plot()"
   ]
  },
  {
   "cell_type": "code",
   "execution_count": null,
   "metadata": {},
   "outputs": [],
   "source": [
    "stag.V[0,:, -1, :].plot()"
   ]
  },
  {
   "cell_type": "markdown",
   "metadata": {},
   "source": [
    "Ok, the southern boundary in this dataset is 0. Let's combine the initial conditions"
   ]
  },
  {
   "cell_type": "markdown",
   "metadata": {},
   "source": [
    "we need to rename the staggered coordinate variables to work with SAM netCDF input"
   ]
  },
  {
   "cell_type": "code",
   "execution_count": null,
   "metadata": {},
   "outputs": [],
   "source": [
    "def rename_var(z, coords):\n",
    "    rename_d = {'xc': 'x', 'yc': 'y', 'ys': 'y', 'xs': 'x'}\n",
    "    rename_d = {key: val for key, val in rename_d.items()\n",
    "                if key in z.dims}\n",
    "    \n",
    "    \n",
    "    return z.rename(rename_d).assign_coords(**coords)\n",
    "    \n",
    "\n",
    "stag = stag.apply(lambda x: rename_var(x, cent.coords))"
   ]
  },
  {
   "cell_type": "code",
   "execution_count": null,
   "metadata": {},
   "outputs": [],
   "source": [
    "ic = xr.Dataset({\n",
    "    'U': stag.U,\n",
    "    'V': stag.V,\n",
    "    'W': cent.W,\n",
    "    'QV': cent.QV,\n",
    "    'TABS': cent.TABS,\n",
    "    'QN': cent.QN,\n",
    "    'QP': cent.QP,\n",
    "    'RHO' : stat.RHO[0],\n",
    "    'Ps': stat.Ps[0]\n",
    "})\n",
    "\n",
    "ic= ic.isel(time=0)\n",
    "ic.to_netcdf(\"ic.nc\")"
   ]
  },
  {
   "cell_type": "code",
   "execution_count": null,
   "metadata": {},
   "outputs": [],
   "source": [
    "ic"
   ]
  }
 ],
 "metadata": {
  "kernelspec": {
   "display_name": "Python 3",
   "language": "python",
   "name": "python3"
  },
  "language_info": {
   "codemirror_mode": {
    "name": "ipython",
    "version": 3
   },
   "file_extension": ".py",
   "mimetype": "text/x-python",
   "name": "python",
   "nbconvert_exporter": "python",
   "pygments_lexer": "ipython3",
   "version": "3.6.1"
  }
 },
 "nbformat": 4,
 "nbformat_minor": 2
}
